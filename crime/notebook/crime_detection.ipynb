{
 "cells": [
  {
   "cell_type": "markdown",
   "metadata": {
    "id": "mD9QagogiSdt"
   },
   "source": [
    "<h1 align=center style=\"line-height:200%;font-family:vazir;color:#0099cc\">\n",
    "<font face=\"vazir\" color=\"#0099cc\">\n",
    "جرم‌شناسی\n",
    "</font>\n",
    "</h1>\n",
    "\n",
    "\n"
   ]
  },
  {
   "cell_type": "markdown",
   "metadata": {
    "id": "kFIZh7YuiSdw"
   },
   "source": [
    "<h2 align=right style=\"line-height:200%;font-family:vazir;color:#0099cc\">\n",
    "<font face=\"vazir\" color=\"#0099cc\">\n",
    "مقدمه و صورت مسئله\n",
    "</font>\n",
    "</h2>\n",
    "\n",
    "<p dir=rtl style=\"direction: rtl;text-align: justify;line-height:200%;font-family:vazir;font-size:medium\">\n",
    "<font face=\"vazir\" size=3>\n",
    "هدف شما در این مسئله، ایجاد یک مدل پیش‌بینی است که می‌تواند از داده‌های تاریخی حوادث جدید را در یکی از چندین دسته جرم طبقه‌بندی کند. این مدل باید به سازمان‌های مجری قانون کمک کند تا الگوهای رفتار مجرمانه را شناسایی کرده و تصمیمات آگاهانه‌تری در مورد استراتژی‌های پیشگیری از جرم در لس‌آنجلس بگیرند.\n",
    "</font>\n",
    "</p>"
   ]
  },
  {
   "cell_type": "markdown",
   "metadata": {
    "id": "xIK38OxIiSdx"
   },
   "source": [
    "<h2 align=right style=\"line-height:200%;font-family:vazir;color:#0099cc\">\n",
    "<font face=\"vazir\" color=\"#0099cc\">\n",
    "معرفی مجموعه داده\n",
    "</font>\n",
    "</h2>\n",
    "\n",
    "<p dir=rtl style=\"direction: rtl; text-align: justify; line-height:200%; font-family:vazir; font-size:medium\">\n",
    "<font face=\"vazir\" size=3>\n",
    "مجموعه داده آموزشی شامل 84113 سطر است که در جدول زیر، توضیحات هر ستون آمده است.\n",
    "</font>\n",
    "</p>\n",
    "\n",
    "<center>\n",
    "<div dir=rtl style=\"direction: rtl;line-height:200%;font-family:vazir;font-size:medium\">\n",
    "<font face=\"vazir\" size=3>\n",
    "    \n",
    "|ستون|توضیحات|\n",
    "|:------:|:---:|\n",
    "|DR_NO| یک شناسه‌ی منحصر به فرد برای هر گزارش جرم|\n",
    "|Date Rptd| تاریخ گزارش جنایت|\n",
    "|DATE OCC| تاریخ وقوع جرم|\n",
    "|TIME OCC| زمان وقوع جرم|\n",
    "|AREA| کد منطقه‌ای که جرم در آن رخ داده است|\n",
    "|AREA NAME| نام منطقه‌ای که جرم در آن رخ داده است|\n",
    "|Rpt Dist No| شماره‌ی منطقه‌ی گزارش‌دهنده|\n",
    "|Crm Cd| کد جرم که نشان‌دهنده‌ی دسته‌ی جرم است (این ستون، متغیر هدف است)|\n",
    "|Crm Cd Desc| شرح جرم|\n",
    "|Mocodes| کدهای نشان‌دهنده‌ی روش مورد استفاده برای ارتکاب جرم|\n",
    "|Vict Age| سن قربانی|\n",
    "|Vict Sex| جنسیت قربانی|\n",
    "|Vict Descent| قومیت/تبار قربانی|\n",
    "|Premis Cd| کد نوع محل وقوع جرم|\n",
    "|Premis Desc| شرحی از محل|\n",
    "|Weapon Used Cd| کد نوع سلاح مورد استفاده در جرم|\n",
    "|Weapon Desc| شرحی از سلاح مورد استفاده|\n",
    "|Status| وضعیت پرونده (به عنوان مثال، در دست بررسی، بسته‌شده)|\n",
    "|Status Desc| شرح وضعیت پرونده|\n",
    "|Crm Cd 1، Crm Cd 2، Crm Cd 3، Crm Cd 4| کدهای جرم اضافی در صورتی که حادثه شامل چندین جرم باشد|\n",
    "|LOCATION| طول و عرض جغرافیایی جنایت|\n",
    "|Cross Street| نزدیکترین چهارراه به محل وقوع جرم|\n",
    "|LAT| مختصات عرض جغرافیایی جرم|\n",
    "|LON| مختصات طول جغرافیایی جرم|\n",
    "\n",
    "    \n",
    "</font>\n",
    "</div>\n",
    "</center>\n",
    "\n",
    "\n",
    "<p dir=rtl style=\"direction: rtl; text-align: justify; line-height:200%; font-family:vazir; font-size:medium\">\n",
    "<font face=\"vazir\" size=3>\n",
    "    مجموعه‌داده‌ی آزمایش نیز مانند مجموعه‌ی آموزش است با این تفاوت که ستون <code>Crm Cd</code> که متغیر هدف مسئله است را در خود ندارد. همچنین ستون‌های <code>Crm Cd 1</code> و <code>Crm Cd 2</code> و  <code>Crm Cd 3</code> و <code>Crm Cd 4</code> و <code>Crm Cd Desc</code> که اطلاعات مستقیم در مورد متغیر هدف دارند را نیز در خود ندارد. مجموعه‌داده‌ی آزمایش 9346 سطر و 21 ستون دارد.\n",
    "</font>\n",
    "</p>\n"
   ]
  },
  {
   "cell_type": "markdown",
   "metadata": {},
   "source": [
    "## Importing"
   ]
  },
  {
   "cell_type": "code",
   "execution_count": 1,
   "metadata": {},
   "outputs": [],
   "source": [
    "import pandas as pd\n",
    "import numpy as np"
   ]
  },
  {
   "cell_type": "markdown",
   "metadata": {},
   "source": []
  },
  {
   "cell_type": "code",
   "execution_count": 67,
   "metadata": {},
   "outputs": [],
   "source": [
    "train = pd.read_csv(\"../data/train.csv\")\n",
    "test = pd.read_csv(\"../data/test.csv\")"
   ]
  },
  {
   "cell_type": "markdown",
   "metadata": {},
   "source": [
    "## Preprocessing - Feature engineering"
   ]
  },
  {
   "cell_type": "markdown",
   "metadata": {},
   "source": [
    "#### Sex, Age and Ethnicity"
   ]
  },
  {
   "cell_type": "code",
   "execution_count": 68,
   "metadata": {},
   "outputs": [],
   "source": [
    "train = train[train['Vict Sex'] != 'H']\n",
    "\n",
    "train['Vict Sex'].fillna('X', inplace=True)\n",
    "\n",
    "test['Vict Sex'] = test['Vict Sex'].replace('H', np.nan) \n",
    "test['Vict Sex'].fillna('X', inplace=True)  "
   ]
  },
  {
   "cell_type": "code",
   "execution_count": 69,
   "metadata": {},
   "outputs": [],
   "source": [
    "train = pd.get_dummies(train, columns=['Vict Sex'], prefix='Vict_Sex')\n",
    "\n",
    "test_encoded = pd.get_dummies(test, columns=['Vict Sex'], prefix='Vict_Sex')\n",
    "\n",
    "test = test_encoded.reindex(columns=train.columns, fill_value=0)"
   ]
  },
  {
   "cell_type": "code",
   "execution_count": 70,
   "metadata": {},
   "outputs": [],
   "source": [
    "train = train[train['Vict Age'] >= 0]\n",
    "\n",
    "bins = [0, 18, 35, 50, 65, 100]\n",
    "labels = [1, 2, 3, 4, 5]\n",
    "\n",
    "train['Age_Group'] = pd.cut(train['Vict Age'], bins=bins, labels=labels, right=False)\n",
    "test['Age_Group'] = pd.cut(test['Vict Age'], bins=bins, labels=labels, right=False)\n",
    "\n"
   ]
  },
  {
   "cell_type": "code",
   "execution_count": 71,
   "metadata": {},
   "outputs": [],
   "source": [
    "test['Age_Group'].fillna(test['Age_Group'].mode()[0], inplace=True)\n"
   ]
  },
  {
   "cell_type": "code",
   "execution_count": 72,
   "metadata": {},
   "outputs": [
    {
     "name": "stderr",
     "output_type": "stream",
     "text": [
      "/home/hamed/miniconda3/envs/quera/lib/python3.9/site-packages/pandas/core/arrays/categorical.py:528: RuntimeWarning: invalid value encountered in cast\n",
      "  fill_value = lib.item_from_zerodim(np.array(np.nan).astype(dtype))\n"
     ]
    }
   ],
   "source": [
    "train['Age_Group'] = train['Age_Group'].astype(np.int8)\n",
    "train['Age_Group'] = train['Age_Group'].astype(np.int8)\n"
   ]
  },
  {
   "cell_type": "code",
   "execution_count": null,
   "metadata": {},
   "outputs": [],
   "source": []
  },
  {
   "cell_type": "code",
   "execution_count": 73,
   "metadata": {},
   "outputs": [
    {
     "data": {
      "text/plain": [
       "\" from sklearn.preprocessing import OneHotEncoder\\n\\ntrain['Vict Descent'].fillna(train['Vict Descent'].mode()[0], inplace=True)\\ntest['Vict Descent'].fillna(train['Vict Descent'].mode()[0], inplace=True)\\n\\none_hot_encoder = OneHotEncoder(sparse_output=False, drop='first')\\n\\none_hot_encoder.fit(train[['Vict Descent']])\\n\\ntrain_encoded_columns = one_hot_encoder.transform(train[['Vict Descent']])\\ntest_encoded_columns = one_hot_encoder.transform(test[['Vict Descent']])\\n\\ntrain_encoded_df = pd.DataFrame(train_encoded_columns, columns=one_hot_encoder.get_feature_names_out(['Vict Descent']))\\ntest_encoded_df = pd.DataFrame(test_encoded_columns, columns=one_hot_encoder.get_feature_names_out(['Vict Descent']))\\n\\ntrain = pd.concat([train, train_encoded_df], axis=1)\\ntest = pd.concat([test, test_encoded_df], axis=1) \""
      ]
     },
     "execution_count": 73,
     "metadata": {},
     "output_type": "execute_result"
    }
   ],
   "source": [
    "\"\"\" from sklearn.preprocessing import OneHotEncoder\n",
    "\n",
    "train['Vict Descent'].fillna(train['Vict Descent'].mode()[0], inplace=True)\n",
    "test['Vict Descent'].fillna(train['Vict Descent'].mode()[0], inplace=True)\n",
    "\n",
    "one_hot_encoder = OneHotEncoder(sparse_output=False, drop='first')\n",
    "\n",
    "one_hot_encoder.fit(train[['Vict Descent']])\n",
    "\n",
    "train_encoded_columns = one_hot_encoder.transform(train[['Vict Descent']])\n",
    "test_encoded_columns = one_hot_encoder.transform(test[['Vict Descent']])\n",
    "\n",
    "train_encoded_df = pd.DataFrame(train_encoded_columns, columns=one_hot_encoder.get_feature_names_out(['Vict Descent']))\n",
    "test_encoded_df = pd.DataFrame(test_encoded_columns, columns=one_hot_encoder.get_feature_names_out(['Vict Descent']))\n",
    "\n",
    "train = pd.concat([train, train_encoded_df], axis=1)\n",
    "test = pd.concat([test, test_encoded_df], axis=1) \"\"\""
   ]
  },
  {
   "cell_type": "markdown",
   "metadata": {},
   "source": [
    "#### Location data"
   ]
  },
  {
   "cell_type": "code",
   "execution_count": 74,
   "metadata": {},
   "outputs": [],
   "source": [
    "from sklearn.cluster import KMeans\n",
    "import matplotlib.pyplot as plt\n",
    "# Number of clusters\n",
    "num_clusters = 3\n",
    "\n",
    "# Apply K-means clustering\n",
    "kmeans = KMeans(n_clusters=num_clusters)\n",
    "train['Cluster'] = kmeans.fit_predict(train[['LAT', 'LON']])\n",
    "test['Cluster'] = kmeans.predict(test[['LAT', 'LON']])"
   ]
  },
  {
   "cell_type": "markdown",
   "metadata": {},
   "source": [
    "#### Tiem and date"
   ]
  },
  {
   "cell_type": "code",
   "execution_count": 75,
   "metadata": {},
   "outputs": [],
   "source": [
    "def convert_time_format(time_int):\n",
    "    time_str = str(time_int).zfill(4)\n",
    "    return f\"{time_str[:2]}:{time_str[2:]}\"\n",
    "\n",
    "train['TIME_OCC'] = train['TIME OCC'].apply(convert_time_format)\n",
    "test['TIME_OCC'] = test['TIME OCC'].apply(convert_time_format)\n",
    "\n",
    "train['Hour'] = train['TIME_OCC'].apply(lambda x: int(x[:2]))\n",
    "test['Hour'] = test['TIME_OCC'].apply(lambda x: int(x[:2]))"
   ]
  },
  {
   "cell_type": "code",
   "execution_count": 76,
   "metadata": {},
   "outputs": [],
   "source": [
    "train.drop('TIME_OCC', axis=1, inplace=True)\n",
    "test.drop('TIME_OCC', axis=1, inplace=True)"
   ]
  },
  {
   "cell_type": "code",
   "execution_count": 77,
   "metadata": {},
   "outputs": [],
   "source": [
    "train[\"DATE OCC\"] = pd.to_datetime(train['DATE OCC'])\n",
    "test[\"DATE OCC\"] = pd.to_datetime(test['DATE OCC'])"
   ]
  },
  {
   "cell_type": "code",
   "execution_count": 78,
   "metadata": {},
   "outputs": [],
   "source": [
    "train['Day of Week'] = train['DATE OCC'].dt.dayofweek\n",
    "train['Month'] = train['DATE OCC'].dt.month\n",
    "train['Year'] = train['DATE OCC'].dt.year\n",
    "\n",
    "test['Day of Week'] = test['DATE OCC'].dt.dayofweek\n",
    "test['Month'] = test['DATE OCC'].dt.month\n",
    "test['Year'] = test['DATE OCC'].dt.year\n",
    "\n",
    "train['Weekend'] = train['Day of Week'].apply(lambda x: 1 if x >= 5 else 0)\n",
    "test['Weekend'] = test['Day of Week'].apply(lambda x: 1 if x >= 5 else 0)"
   ]
  },
  {
   "cell_type": "code",
   "execution_count": 79,
   "metadata": {},
   "outputs": [],
   "source": [
    "train['Date Rptd'] = pd.to_datetime(train['Date Rptd'])\n",
    "test['Date Rptd'] = pd.to_datetime(test['Date Rptd'])\n",
    "\n",
    "train['Time Difference'] = (train['Date Rptd'] - train['DATE OCC']).dt.days\n",
    "test['Time Difference'] = (test['Date Rptd'] - test['DATE OCC']).dt.days"
   ]
  },
  {
   "cell_type": "code",
   "execution_count": 80,
   "metadata": {},
   "outputs": [],
   "source": [
    "train.drop(['DATE OCC', 'TIME OCC'], axis=1, inplace=True)"
   ]
  },
  {
   "cell_type": "markdown",
   "metadata": {},
   "source": [
    "#### Crime report columns"
   ]
  },
  {
   "cell_type": "code",
   "execution_count": 81,
   "metadata": {},
   "outputs": [],
   "source": [
    "from sklearn.preprocessing import OrdinalEncoder\n",
    "\n",
    "ordinal_encoder = OrdinalEncoder()\n",
    "\n",
    "train['Crm Cd'] = ordinal_encoder.fit_transform(train[['Crm Cd']])\n",
    "\n"
   ]
  },
  {
   "cell_type": "code",
   "execution_count": 82,
   "metadata": {},
   "outputs": [],
   "source": [
    "train = pd.get_dummies(train, columns=['Status'], drop_first=True)\n",
    "test = pd.get_dummies(test, columns=['Status'], drop_first=True)\n"
   ]
  },
  {
   "cell_type": "code",
   "execution_count": null,
   "metadata": {},
   "outputs": [],
   "source": []
  },
  {
   "cell_type": "code",
   "execution_count": 83,
   "metadata": {},
   "outputs": [],
   "source": [
    "from sklearn.preprocessing import OrdinalEncoder\n",
    "\n",
    "ordinal_encoder = OrdinalEncoder(handle_unknown='use_encoded_value', unknown_value=-1)\n",
    "\n",
    "train['Premis_Cd_Encoded'] = ordinal_encoder.fit_transform(train[['Premis Cd']])\n",
    "\n",
    "test['Premis_Cd_Encoded'] = ordinal_encoder.transform(test[['Premis Cd']])\n"
   ]
  },
  {
   "cell_type": "code",
   "execution_count": 84,
   "metadata": {},
   "outputs": [],
   "source": [
    "train['Premis_Cd_Encoded'].fillna(train['Premis_Cd_Encoded'].mode()[0], inplace=True)"
   ]
  },
  {
   "cell_type": "code",
   "execution_count": 85,
   "metadata": {},
   "outputs": [],
   "source": [
    "train['Weapon_Used'] = train['Weapon Used Cd'].isnull().astype(int)\n",
    "test['Weapon_Used'] = test['Weapon Used Cd'].isnull().astype(int)\n"
   ]
  },
  {
   "cell_type": "code",
   "execution_count": 86,
   "metadata": {},
   "outputs": [],
   "source": [
    "from sklearn.preprocessing import LabelEncoder\n",
    "\n",
    "label_encoder = LabelEncoder()\n",
    "train['Rpt Dist No'] = label_encoder.fit_transform(train['Rpt Dist No'])\n",
    "\n",
    "def handle_unknowns(value, le):\n",
    "    if value in le.classes_:\n",
    "        return le.transform([value])[0]\n",
    "    else:\n",
    "        return -1 \n",
    "\n",
    "test['Rpt Dist No'] = test['Rpt Dist No'].apply(lambda x: handle_unknowns(x, label_encoder))\n"
   ]
  },
  {
   "cell_type": "code",
   "execution_count": 87,
   "metadata": {},
   "outputs": [
    {
     "data": {
      "text/plain": [
       "H    2745\n",
       "W    1966\n",
       "B    1369\n",
       "O     764\n",
       "X     677\n",
       "A     202\n",
       "K      43\n",
       "C      24\n",
       "F      19\n",
       "J       7\n",
       "V       5\n",
       "I       4\n",
       "S       1\n",
       "P       1\n",
       "U       1\n",
       "D       1\n",
       "Z       1\n",
       "Name: Vict Descent, dtype: int64"
      ]
     },
     "execution_count": 87,
     "metadata": {},
     "output_type": "execute_result"
    }
   ],
   "source": [
    "test['Vict Descent'].value_counts()"
   ]
  },
  {
   "cell_type": "markdown",
   "metadata": {},
   "source": []
  },
  {
   "cell_type": "code",
   "execution_count": 88,
   "metadata": {},
   "outputs": [],
   "source": [
    "from sklearn.calibration import LabelEncoder\n",
    "\n",
    "\n",
    "label_encoder = LabelEncoder()\n",
    "train['Vict Descent'] = label_encoder.fit_transform(train['Vict Descent'])\n",
    "test['Vict Descent'] = label_encoder.transform(test['Vict Descent'])\n"
   ]
  },
  {
   "cell_type": "markdown",
   "metadata": {},
   "source": [
    "### Removing redundant columns"
   ]
  },
  {
   "cell_type": "code",
   "execution_count": 89,
   "metadata": {},
   "outputs": [],
   "source": [
    "train.drop(['DR_NO', 'Crm Cd Desc', 'Vict Age', 'LOCATION', 'Cross Street','Status Desc', 'Date Rptd', 'AREA NAME', 'Premis Desc', 'Weapon Desc'], axis=1, inplace=True)\n",
    "test.drop(['DR_NO', 'Crm Cd Desc', 'Vict Age', 'LOCATION', 'Cross Street','Status Desc', 'Date Rptd', 'AREA NAME', 'Premis Desc', 'Weapon Desc'], axis=1, inplace=True)"
   ]
  },
  {
   "cell_type": "markdown",
   "metadata": {},
   "source": [
    "# Modeling"
   ]
  },
  {
   "cell_type": "code",
   "execution_count": 90,
   "metadata": {},
   "outputs": [
    {
     "data": {
      "text/plain": [
       "Index(['AREA', 'Rpt Dist No', 'Crm Cd', 'Mocodes', 'Vict Descent', 'Premis Cd',\n",
       "       'Weapon Used Cd', 'Crm Cd 1', 'Crm Cd 2', 'Crm Cd 3', 'Crm Cd 4', 'LAT',\n",
       "       'LON', 'Vict_Sex_F', 'Vict_Sex_M', 'Vict_Sex_X', 'Age_Group', 'Cluster',\n",
       "       'Hour', 'Day of Week', 'Month', 'Year', 'Weekend', 'Time Difference',\n",
       "       'Status_AO', 'Status_IC', 'Status_JA', 'Status_JO', 'Premis_Cd_Encoded',\n",
       "       'Weapon_Used'],\n",
       "      dtype='object')"
      ]
     },
     "execution_count": 90,
     "metadata": {},
     "output_type": "execute_result"
    }
   ],
   "source": [
    "train.columns"
   ]
  },
  {
   "cell_type": "code",
   "execution_count": 91,
   "metadata": {},
   "outputs": [],
   "source": [
    "columns_to_drop = ['Crm Cd 1', 'Crm Cd 2', 'Crm Cd 3', 'Crm Cd 4', 'Crm Cd', 'Vict Descent', 'Mocodes', 'LAT', 'LON', 'Premis Cd', 'Year', 'Cluster', 'Weapon Used Cd']\n",
    "X = train.drop(columns=columns_to_drop, axis=1)\n",
    "y = train['Crm Cd']"
   ]
  },
  {
   "cell_type": "code",
   "execution_count": 92,
   "metadata": {},
   "outputs": [],
   "source": [
    "\n",
    "from sklearn.preprocessing import LabelEncoder\n",
    "\n",
    "label_encoder = LabelEncoder()\n",
    "train['Rpt Dist No'] = label_encoder.fit_transform(train['Rpt Dist No'])\n",
    "\n",
    "def handle_unknowns(value, le):\n",
    "    if value in le.classes_:\n",
    "        return le.transform([value])[0]\n",
    "    else:\n",
    "        return -1 \n",
    "\n",
    "test['Rpt Dist No'] = test['Rpt Dist No'].apply(lambda x: handle_unknowns(x, label_encoder))\n"
   ]
  },
  {
   "cell_type": "code",
   "execution_count": 93,
   "metadata": {},
   "outputs": [],
   "source": [
    "\n",
    "from sklearn.preprocessing import LabelEncoder\n",
    "\n",
    "label_encoder = LabelEncoder()\n",
    "train['AREA'] = label_encoder.fit_transform(train['AREA'])\n",
    "\n",
    "def handle_unknowns(value, le):\n",
    "    if value in le.classes_:\n",
    "        return le.transform([value])[0]\n",
    "    else:\n",
    "        return -1 \n",
    "\n",
    "test['AREA'] = test['AREA'].apply(lambda x: handle_unknowns(x, label_encoder))\n"
   ]
  },
  {
   "cell_type": "code",
   "execution_count": 94,
   "metadata": {},
   "outputs": [],
   "source": [
    "\n",
    "from sklearn.preprocessing import MinMaxScaler\n",
    "\n",
    "scaler = MinMaxScaler()\n",
    "X_scaled = scaler.fit_transform(X)\n"
   ]
  },
  {
   "cell_type": "code",
   "execution_count": 95,
   "metadata": {},
   "outputs": [],
   "source": [
    "X_scaled_df = pd.DataFrame(X_scaled, columns=[X.columns])"
   ]
  },
  {
   "cell_type": "code",
   "execution_count": 96,
   "metadata": {},
   "outputs": [
    {
     "data": {
      "text/plain": [
       "AREA                 0\n",
       "Rpt Dist No          0\n",
       "Vict_Sex_F           0\n",
       "Vict_Sex_M           0\n",
       "Vict_Sex_X           0\n",
       "Age_Group            0\n",
       "Hour                 0\n",
       "Day of Week          0\n",
       "Month                0\n",
       "Weekend              0\n",
       "Time Difference      0\n",
       "Status_AO            0\n",
       "Status_IC            0\n",
       "Status_JA            0\n",
       "Status_JO            0\n",
       "Premis_Cd_Encoded    0\n",
       "Weapon_Used          0\n",
       "dtype: int64"
      ]
     },
     "execution_count": 96,
     "metadata": {},
     "output_type": "execute_result"
    }
   ],
   "source": [
    "X_scaled_df.isna().sum()"
   ]
  },
  {
   "cell_type": "code",
   "execution_count": 101,
   "metadata": {},
   "outputs": [
    {
     "name": "stdout",
     "output_type": "stream",
     "text": [
      "F1 Score (Macro): 0.030755788521519254\n"
     ]
    }
   ],
   "source": [
    "\n",
    "from sklearn.model_selection import train_test_split\n",
    "from sklearn.linear_model import LinearRegression\n",
    "from sklearn.metrics import f1_score\n",
    "from sklearn.preprocessing import LabelBinarizer\n",
    "\n",
    "\n",
    "X_train, X_val, y_train, y_val = train_test_split(X_scaled, y, test_size=0.2, random_state=42)\n",
    "\n",
    "model = LinearRegression()\n",
    "\n",
    "model.fit(X_train, y_train)\n",
    "\n",
    "y_pred = model.predict(X_val)\n",
    "\n",
    "\n",
    "y_pred_classes = np.round(y_pred)\n",
    "\n",
    "f1 = f1_score(y_val, y_pred_classes, average='macro')\n",
    "\n",
    "print(f\"F1 Score (Macro): {f1}\")\n"
   ]
  },
  {
   "cell_type": "code",
   "execution_count": 98,
   "metadata": {},
   "outputs": [],
   "source": [
    "X_train, X_test, y_train, y_test = train_test_split(X_scaled, y, test_size=0.2, random_state=42)\n"
   ]
  },
  {
   "cell_type": "code",
   "execution_count": 99,
   "metadata": {},
   "outputs": [],
   "source": [
    "from sklearn.linear_model import LogisticRegression\n",
    "\n",
    "\n",
    "model = LogisticRegression(solver='saga',max_iter=1000)"
   ]
  },
  {
   "cell_type": "code",
   "execution_count": 100,
   "metadata": {},
   "outputs": [
    {
     "data": {
      "text/plain": [
       "0.2648695072892609"
      ]
     },
     "execution_count": 100,
     "metadata": {},
     "output_type": "execute_result"
    }
   ],
   "source": [
    "from sklearn.metrics import f1_score\n",
    "\n",
    "\n",
    "model.fit(X_train, y_train)\n",
    "y_pred = model.predict(X_test)\n",
    "f1_score(y_test, y_pred, average=\"macro\")"
   ]
  },
  {
   "cell_type": "code",
   "execution_count": 205,
   "metadata": {},
   "outputs": [
    {
     "name": "stdout",
     "output_type": "stream",
     "text": [
      "DR_NO               int64\n",
      "Date Rptd          object\n",
      "DATE OCC           object\n",
      "TIME OCC            int64\n",
      "AREA                int64\n",
      "AREA NAME          object\n",
      "Rpt Dist No         int64\n",
      "Crm Cd              int64\n",
      "Crm Cd Desc        object\n",
      "Mocodes            object\n",
      "Vict Age            int64\n",
      "Vict Descent       object\n",
      "Premis Cd         float64\n",
      "Premis Desc        object\n",
      "Weapon Used Cd    float64\n",
      "Weapon Desc        object\n",
      "Status             object\n",
      "Status Desc        object\n",
      "Crm Cd 1          float64\n",
      "Crm Cd 2          float64\n",
      "Crm Cd 3          float64\n",
      "Crm Cd 4          float64\n",
      "LOCATION           object\n",
      "Cross Street       object\n",
      "LAT               float64\n",
      "LON               float64\n",
      "Vict_Sex_F          uint8\n",
      "Vict_Sex_M          uint8\n",
      "Vict_Sex_X          uint8\n",
      "Age_Group            int8\n",
      "dtype: object\n"
     ]
    }
   ],
   "source": [
    "print(train.dtypes)"
   ]
  },
  {
   "cell_type": "markdown",
   "metadata": {},
   "source": [
    "AREA              float64\n",
    "Rpt Dist No       float64\n",
    "Crm Cd            float64\n",
    "Mocodes            object\n",
    "Vict Age          float64\n",
    "                   ...   \n",
    "Vict Descent_U    float64\n",
    "Vict Descent_V    float64\n",
    "Vict Descent_W    float64\n",
    "Vict Descent_X    float64\n",
    "Vict Descent_Z    float64\n",
    "Length: 63, dtype: object"
   ]
  },
  {
   "cell_type": "markdown",
   "metadata": {
    "id": "DPFvmd1QoKiL"
   },
   "source": [
    "<h3 align=right style=\"line-height:200%;font-family:vazir;color:#0099cc\">\n",
    "<font face=\"vazir\" color=\"#0099cc\">\n",
    "معیار ارزیابی\n",
    "</font>\n",
    "</h3>\n",
    "\n",
    "<p dir=rtl style=\"direction: rtl; text-align: justify; line-height:200%; font-family:vazir; font-size:medium\">\n",
    "<font face=\"vazir\" size=3>\n",
    " معیار ارزیابی مورد استفاده در داوری این مسئله، امتیاز <code>F1 Macro</code> است که دقت و بازیابی را در تمام دسته‌های جرم به صورت متعادل‌شده بررسی می‌کند. بر خلاف دقت، که می تواند توسط داده‌های نامتعادل تغییر کند، امتیاز <code>F1 Macro</code>، امتیاز <code>F1</code> را برای هر دسته‌ی جرم به طور مستقل محاسبه می‌کند و سپس میانگین آن‌ها را محاسبه می‌کند. این معیار تضمین می‌کند که عملکرد در دسته‌های جرایم کم‌تکرار اهمیت یکسانی دارد. این ویژگی این معیار را برای پیش‌بینی انواع مختلف جرایم، صرف نظر از فراوانی آنها در مجموعه‌داده، مناسب می‌سازد.\n",
    "</font>\n",
    "</p>"
   ]
  },
  {
   "cell_type": "markdown",
   "metadata": {
    "id": "KIfFWcc8qEAO"
   },
   "source": [
    "<h2 align=right style=\"line-height:200%;font-family:vazir;color:#0099cc\">\n",
    "<font face=\"vazir\" color=\"#0099cc\">\n",
    " پیش‌بینی برای داده تست و خروجی\n",
    "</font>\n",
    "</h2>\n",
    "\n",
    "<p dir=rtl style=\"direction: rtl;text-align: right;line-height:200%;font-family:vazir;font-size:medium\">\n",
    "<font face=\"vazir\" size=3>\n",
    "    از مدل خود برای پیش‌بینی نمونه‌های موجود در داده‌ی تست استفاده کنید و نتایج را در قالب جدولی (<code>dataframe</code>) به شکل زیر آماده کنید.\n",
    "</font>\n",
    "</p>\n",
    "\n",
    "<div dir=rtl style=\"direction: rtl;text-align: center;line-height:200%;font-family:vazir;font-size:medium\">\n",
    "<font face=\"vazir\" size=3>\n",
    "    \n",
    "|ستون|توضیحات|\n",
    "|------|---|\n",
    "|Crm Cd|کد جرم پیش‌بینی‌شده|\n",
    "    \n",
    "</font>\n",
    "</div>\n",
    "\n"
   ]
  },
  {
   "cell_type": "markdown",
   "metadata": {
    "id": "rH8Y9d6JqmEf"
   },
   "source": [
    "<p dir=rtl style=\"direction: rtl;text-align: right;line-height:200%;font-family:vazir;font-size:medium\">\n",
    "<font face=\"vazir\" size=3>\n",
    "    اسم دیتافریم باید <i>submission</i> باشد؛ در غیر این صورت، سامانه داوری نمی‌تواند تلاش‌ شما را ارزیابی کند.\n",
    "    <br>\n",
    "    این دیتافریم تنها شامل ۱ ستون با اسم <i>Crm Cd</i> است و ? سطر دارد.\n",
    "    <br>\n",
    "    به ازای هر سطر موجود در دیتافریم <i>test</i> شما باید یک مقدار پیشبینی شده داشته باشید.\n",
    "    <br>\n",
    "    جدول زیر، ۵ سطر ابتدایی دیتافریم <code>submission</code> را نشان می‌دهد. البته در جواب شما، مقادیر ستون <i>Crm Cd</i> ممکن است متفاوت باشد.\n",
    "</font>\n",
    "</p>\n",
    "\n",
    "<div style=\"text-align: center;line-height:200%;font-family:vazir;font-size:medium\">\n",
    "<font face=\"vazir\" size=3>\n",
    "    \n",
    "|Crm Cd|\n",
    "|-----|\n",
    "|210|\n",
    "|420|\n",
    "|930|\n",
    "|624|\n",
    "|420|\n",
    "\n",
    "</font>\n",
    "</div>"
   ]
  },
  {
   "cell_type": "code",
   "execution_count": 102,
   "metadata": {},
   "outputs": [],
   "source": [
    "test.drop('Crm Cd', axis=1, inplace=True)\n",
    "test.drop(['DATE OCC', 'TIME OCC'] ,axis=1, inplace=True)\n",
    "test.drop(['Vict Descent', 'Mocodes', 'LAT', 'LON'], axis=1, inplace=True)\n",
    "test.drop(['Premis Cd', 'Year', 'Cluster', 'Weapon Used Cd'], axis=1, inplace = True)\n",
    "test.drop(['Crm Cd 1', 'Crm Cd 2', 'Crm Cd 3', 'Crm Cd 4'], axis=1, inplace=True)"
   ]
  },
  {
   "cell_type": "code",
   "execution_count": 112,
   "metadata": {
    "id": "w36rHxW0qE6J"
   },
   "outputs": [],
   "source": [
    "# predict test samples\n",
    "submission = pd.DataFrame(model.predict(test), columns=['Crm Cd'])"
   ]
  },
  {
   "cell_type": "code",
   "execution_count": 111,
   "metadata": {},
   "outputs": [],
   "source": [
    "test = scaler.transform(test)"
   ]
  },
  {
   "cell_type": "markdown",
   "metadata": {
    "id": "B7PgaLKdiSdz"
   },
   "source": [
    "<h2 dir=rtl align=right style=\"line-height:200%;font-family:vazir;color:#0099cc\">\n",
    "<font face=\"vazir\" color=\"#0099cc\">\n",
    "<b>سلول جواب‌ساز</b>\n",
    "</font>\n",
    "</h2>\n",
    "\n",
    "<p dir=rtl style=\"direction: rtl; text-align: justify; line-height:200%; font-family:vazir; font-size:medium\">\n",
    "<font face=\"vazir\" size=3>\n",
    "    برای ساخته‌شدن فایل <code>result.zip</code> سلول زیر را اجرا کنید. توجه داشته باشید که پیش از اجرای سلول زیر تغییرات اعمال شده در نت‌بوک را ذخیره کرده باشید (<code>ctrl+s</code>) در غیر این صورت، در پایان مسابقه نمره شما به صفر تغییر خواهد کرد.\n",
    "    <br>\n",
    "    همچنین اگر از کولب برای اجرای این فایل نوت‌بوک استفاده می‌کنید، قبل از ارسال فایل <code>result.zip</code>، آخرین نسخه‌ی نوت‌بوک خود را دانلود کرده و داخل فایل ارسالی قرار دهید.\n",
    "</font>"
   ]
  },
  {
   "cell_type": "code",
   "execution_count": 113,
   "metadata": {},
   "outputs": [],
   "source": [
    "import os"
   ]
  },
  {
   "cell_type": "code",
   "execution_count": 117,
   "metadata": {
    "id": "T9jRlQwUiSdz"
   },
   "outputs": [
    {
     "name": "stderr",
     "output_type": "stream",
     "text": [
      "UsageError: unrecognized arguments: -e\n"
     ]
    }
   ],
   "source": [
    "import os\n",
    "import zipfile\n",
    "import joblib\n",
    "\n",
    "if not os.path.exists(os.path.join(os.getcwd(), 'crime-detection.ipynb')):\n",
    "    %notebook -e crime-detection.ipynb\n",
    "\n",
    "def compress(file_names):\n",
    "    print(\"File Paths:\")\n",
    "    print(file_names)\n",
    "    compression = zipfile.ZIP_DEFLATED\n",
    "    with zipfile.ZipFile(\"result.zip\", mode=\"w\") as zf:\n",
    "        for file_name in file_names:\n",
    "            zf.write('./' + file_name, file_name, compress_type=compression)\n",
    "\n",
    "\n",
    "\n",
    "submission.to_csv('submission.csv', index=False)\n",
    "file_names = ['crime-detection.ipynb', 'submission.csv']\n",
    "compress(file_names)\n"
   ]
  },
  {
   "cell_type": "code",
   "execution_count": null,
   "metadata": {},
   "outputs": [],
   "source": []
  }
 ],
 "metadata": {
  "colab": {
   "provenance": []
  },
  "kernelspec": {
   "display_name": "Python 3 (ipykernel)",
   "language": "python",
   "name": "python3"
  },
  "language_info": {
   "codemirror_mode": {
    "name": "ipython",
    "version": 3
   },
   "file_extension": ".py",
   "mimetype": "text/x-python",
   "name": "python",
   "nbconvert_exporter": "python",
   "pygments_lexer": "ipython3",
   "version": "3.9.19"
  },
  "vscode": {
   "interpreter": {
    "hash": "6a29b8f2e1e8b11f80c3820468461bcdbea6564508a235f61a46eeb59d48b308"
   }
  }
 },
 "nbformat": 4,
 "nbformat_minor": 1
}
